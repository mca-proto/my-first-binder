{
 "cells": [
  {
   "cell_type": "code",
   "execution_count": null,
   "id": "da26c015-cf73-44cd-a73f-57854210603c",
   "metadata": {},
   "outputs": [],
   "source": [
    "import osmnx as ox"
   ]
  },
  {
   "cell_type": "code",
   "execution_count": null,
   "id": "866072d5-3411-44df-a3b0-c378386b06c2",
   "metadata": {},
   "outputs": [],
   "source": [
    "mapboxAccessToken = 'pk.eyJ1IjoibWNhcmxvczMxIiwiYSI6ImNrd3VpNGJmejBqMWsycW1pMTFodnZrMDgifQ.NC8YuBX4kaYuMblx1rFGRA'\n",
    "\n",
    "mapboxTilesetId = 'mapbox.satellite'"
   ]
  },
  {
   "cell_type": "code",
   "execution_count": null,
   "id": "2d71780b-1693-4524-8a0e-896583089da7",
   "metadata": {},
   "outputs": [],
   "source": [
    "place= \"Lectoure\""
   ]
  },
  {
   "cell_type": "code",
   "execution_count": null,
   "id": "416fd0ab-a224-46b2-9636-9275883a05a0",
   "metadata": {},
   "outputs": [],
   "source": [
    "gdf.to_crs(3857)[\"length\"].sum()"
   ]
  },
  {
   "cell_type": "code",
   "execution_count": null,
   "id": "fffb4485-b8c2-4207-906f-387197ffd48d",
   "metadata": {},
   "outputs": [],
   "source": [
    "test = ox.graph.graph_from_place(place, network_type='all_private', simplify=False, retain_all=True, truncate_by_edge=False, which_result=None, buffer_dist=None, clean_periphery=None, custom_filter=None)\n",
    "# ox.plot.plot_graph(test)\n",
    "gdf = ox.utils_graph.graph_to_gdfs(test, nodes=False)\n",
    "print(gdf.to_crs(3857)[\"length\"].sum())\n",
    "print(gdf.to_crs(3857).length.sum())\n",
    "print(gdf.to_crs(3857)[\"length\"])\n",
    "print(gdf.to_crs(3857).length)\n",
    "print(gdf.to_crs(3857)[\"length\"])\n",
    "print(gdf.to_crs(3857).length)\n",
    "gdf.explore()"
   ]
  },
  {
   "cell_type": "code",
   "execution_count": null,
   "id": "89cd2fae-8c31-411c-a511-53c12c243576",
   "metadata": {},
   "outputs": [],
   "source": [
    "\n",
    "print(gdf[\"length\"])\n",
    "print(gdf.length)\n",
    "print(gdf.to_crs(3857)[\"length\"])\n",
    "print(gdf.to_crs(3857).length)\n",
    "print(gdf.to_crs(3857)[\"length\"])\n",
    "print(gdf.to_crs(3857).length)"
   ]
  },
  {
   "cell_type": "code",
   "execution_count": null,
   "id": "5974dffd-06b7-46e4-bf7f-197a3200f734",
   "metadata": {},
   "outputs": [],
   "source": [
    "gdf"
   ]
  },
  {
   "cell_type": "code",
   "execution_count": null,
   "id": "12b3e2de-3ea1-4731-9227-ad40f38c9e52",
   "metadata": {},
   "outputs": [],
   "source": [
    "road_length = ox.stats.edge_length_total(test)\n",
    "bycycle_road_length = ox.stats.edge_length_total(test_2)\n",
    "print(road_length, bycycle_road_length)\n",
    "print(f\"In {place} you have {int(road_length)} m of roads \\\n",
    "and {int(bycycle_road_length)} m of roads dedicated to bycycles \\\n",
    "which is a ratio of : {float(bycycle_road_length/road_length):.6f}\")\n"
   ]
  },
  {
   "cell_type": "code",
   "execution_count": null,
   "id": "813885c4-12a4-4c97-bd78-46db4061ac6c",
   "metadata": {},
   "outputs": [],
   "source": [
    "'[\"railway\"~\"subway\"][\"service\"!~\"yard|siding\"]'"
   ]
  },
  {
   "cell_type": "code",
   "execution_count": null,
   "id": "2160466e-073a-4295-9c39-d7ded7952562",
   "metadata": {},
   "outputs": [],
   "source": []
  },
  {
   "cell_type": "code",
   "execution_count": null,
   "id": "08010d4a-d540-4bf2-92a8-5104e0536535",
   "metadata": {},
   "outputs": [],
   "source": [
    "test_2 = ox.graph.graph_from_place(place, simplify=False, retain_all=True, truncate_by_edge=False, which_result=None, buffer_dist=None, clean_periphery=None,\n",
    "                                   custom_filter='[highway~cycleway]')\n",
    "gdf = ox.utils_graph.graph_to_gdfs(test_2, nodes=False)\n",
    "gdf.explore()\n",
    "# ox.plot.plot_graph(test_2)"
   ]
  },
  {
   "cell_type": "code",
   "execution_count": null,
   "id": "6210825d-5155-4b8e-a8ce-3bf4d7576d34",
   "metadata": {},
   "outputs": [],
   "source": [
    "tags = {\n",
    "    \"cycleway\":True,\n",
    "    \"highway\":\"cycleway\",\n",
    "    \"busway\" : \"lane\"\n",
    "}"
   ]
  },
  {
   "cell_type": "code",
   "execution_count": null,
   "id": "3d342e88-adee-4333-aca4-9fe727c32f4c",
   "metadata": {},
   "outputs": [],
   "source": [
    "f_gdf = ox.features.features_from_place(place, tags, which_result=None, buffer_dist=10)\n",
    "f_gdf.explore(\n",
    "    # tiles='https://api.tiles.mapbox.com/v4/' + mapboxTilesetId + '/{z}/{x}/{y}.png?access_token=' + mapboxAccessToken,\n",
    "    attr=\"mapbox\")"
   ]
  },
  {
   "cell_type": "code",
   "execution_count": null,
   "id": "159b7df3-eb18-4c24-b311-66a59fa30b0c",
   "metadata": {},
   "outputs": [],
   "source": [
    "gdf.head()"
   ]
  },
  {
   "cell_type": "code",
   "execution_count": null,
   "id": "f83c582f-be95-4a45-bb8d-25e32c966fed",
   "metadata": {},
   "outputs": [],
   "source": [
    "f_gdf.columns"
   ]
  },
  {
   "cell_type": "code",
   "execution_count": null,
   "id": "6d061da5-0fc9-46d5-be2d-5adc67623e2f",
   "metadata": {},
   "outputs": [],
   "source": [
    "f_gdf.head(5)"
   ]
  },
  {
   "cell_type": "code",
   "execution_count": null,
   "id": "bf742b30-d948-4cb3-a556-640e0899577e",
   "metadata": {},
   "outputs": [],
   "source": []
  },
  {
   "cell_type": "code",
   "execution_count": null,
   "id": "60a2d846-2f9d-4fa1-9fdb-85a8048a2af1",
   "metadata": {},
   "outputs": [],
   "source": []
  },
  {
   "cell_type": "code",
   "execution_count": null,
   "id": "b6d28eea-9209-4d6e-b8ce-509284bf2b80",
   "metadata": {},
   "outputs": [],
   "source": []
  }
 ],
 "metadata": {
  "kernelspec": {
   "display_name": "Python 3 (ipykernel)",
   "language": "python",
   "name": "python3"
  },
  "language_info": {
   "codemirror_mode": {
    "name": "ipython",
    "version": 3
   },
   "file_extension": ".py",
   "mimetype": "text/x-python",
   "name": "python",
   "nbconvert_exporter": "python",
   "pygments_lexer": "ipython3",
   "version": "3.12.0"
  }
 },
 "nbformat": 4,
 "nbformat_minor": 5
}
